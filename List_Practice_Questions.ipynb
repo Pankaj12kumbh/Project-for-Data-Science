{
 "cells": [
  {
   "cell_type": "code",
   "execution_count": 1,
   "id": "71741daa",
   "metadata": {},
   "outputs": [
    {
     "name": "stdout",
     "output_type": "stream",
     "text": [
      "C:\\Users\\psinghrathor\\EduKeeda\n"
     ]
    }
   ],
   "source": [
    "import pandas as pd\n",
    "import numpy as np\n",
    "import os\n",
    "import random as rd\n",
    "print (os.getcwd())"
   ]
  },
  {
   "cell_type": "code",
   "execution_count": 14,
   "id": "e708b2d8",
   "metadata": {},
   "outputs": [
    {
     "data": {
      "text/plain": [
       "[2, 3, 4, 6, 8, 9]"
      ]
     },
     "execution_count": 14,
     "metadata": {},
     "output_type": "execute_result"
    }
   ],
   "source": [
    "a=[i for i in range(1,10) if i%3==0 or i%2==0]\n",
    "a"
   ]
  },
  {
   "cell_type": "code",
   "execution_count": 34,
   "id": "7a909532",
   "metadata": {},
   "outputs": [
    {
     "data": {
      "text/plain": [
       "[2, 6, 8, 10, 12]"
      ]
     },
     "execution_count": 34,
     "metadata": {},
     "output_type": "execute_result"
    }
   ],
   "source": [
    "list1 = [1,2,5,6,7,8,9,10,12]\n",
    "\n",
    "new_list =[]\n",
    "for i in range(0,len(list1)):\n",
    "    if list1[i] % 2 == 0:\n",
    "        new_list.append(list1[i])\n",
    "new_list\n",
    "\n",
    "#Create a new list which consists of those elements which are divisible by 2\n",
    "#new_list = [2,6,8,10,12]"
   ]
  },
  {
   "cell_type": "code",
   "execution_count": 35,
   "id": "3141ca6a",
   "metadata": {},
   "outputs": [
    {
     "data": {
      "text/plain": [
       "[2, 4, 10, 12, 14, 16, 18, 20, 24]"
      ]
     },
     "execution_count": 35,
     "metadata": {},
     "output_type": "execute_result"
    }
   ],
   "source": [
    "#Create a new list and multiply each elements by 2.\n",
    "b = []\n",
    "for i in range(0,len(list1)):\n",
    "        b.append(list1[i]*2)\n",
    "b"
   ]
  },
  {
   "cell_type": "code",
   "execution_count": 32,
   "id": "d35b4e1b",
   "metadata": {},
   "outputs": [
    {
     "name": "stdout",
     "output_type": "stream",
     "text": [
      "20\n"
     ]
    }
   ],
   "source": [
    "c = lambda a,b : a*b\n",
    "c(4,5)\n",
    "\n",
    "def add(x,y):\n",
    "    print(x*y)\n",
    "    \n",
    "add(4,5)"
   ]
  },
  {
   "cell_type": "code",
   "execution_count": 33,
   "id": "f1126521",
   "metadata": {},
   "outputs": [
    {
     "name": "stdout",
     "output_type": "stream",
     "text": [
      "[2, 6, 8, 10, 12]\n"
     ]
    }
   ],
   "source": [
    "list1 = [1,2,5,6,7,8,9,10,12]\n",
    "\n",
    "list2 = [2,4,10,12,14,16,20,24]\n",
    "\n",
    "print(list(filter(lambda x:(x%2 == 0), list1)))"
   ]
  },
  {
   "cell_type": "code",
   "execution_count": 2,
   "id": "79b7254f",
   "metadata": {},
   "outputs": [
    {
     "name": "stdout",
     "output_type": "stream",
     "text": [
      "[4, 6, 8, 12]\n",
      "[4, 6, 8, 12]\n"
     ]
    }
   ],
   "source": [
    "## LAMBDA Function using filter()#\n",
    "mylist = [1,5,4,6,8,11,3,12]\n",
    "xl = list(filter(lambda x: (x%2 == 0), mylist))\n",
    "print(list(filter(lambda x: (x%2 == 0), mylist)))\n",
    "print(xl)"
   ]
  },
  {
   "cell_type": "code",
   "execution_count": 36,
   "id": "b50b801f",
   "metadata": {},
   "outputs": [
    {
     "name": "stdout",
     "output_type": "stream",
     "text": [
      "[2, 10, 8, 12, 16, 22, 6, 24]\n"
     ]
    }
   ],
   "source": [
    "## LAMBDA Function using map()#\n",
    "mylist = [1,5,4,6,8,11,3,12]\n",
    "\n",
    "print(list(map(lambda x: (x*2), mylist)))"
   ]
  },
  {
   "cell_type": "code",
   "execution_count": null,
   "id": "e868aa66",
   "metadata": {},
   "outputs": [],
   "source": [
    "## remove duplicate from the list\n",
    "\n",
    "list2 = [1,2,2,3,4,5,5]\n",
    "\n",
    "print(list(set(list2)))\n",
    "\n",
    "print(set(list2))\n",
    "\n",
    "list3 = [2,3,4]\n",
    "\n",
    "print (list(set(list2) - set(list3)))"
   ]
  },
  {
   "cell_type": "code",
   "execution_count": 39,
   "id": "0909045f",
   "metadata": {},
   "outputs": [
    {
     "name": "stdout",
     "output_type": "stream",
     "text": [
      "{1, 3, 5}\n"
     ]
    }
   ],
   "source": [
    "set1 = {1,2,3,4,5}\n",
    "\n",
    "set2 = {2,4}\n",
    "\n",
    "print(set1 - set2)"
   ]
  },
  {
   "cell_type": "code",
   "execution_count": null,
   "id": "1a393fe7",
   "metadata": {},
   "outputs": [],
   "source": []
  }
 ],
 "metadata": {
  "kernelspec": {
   "display_name": "Python 3",
   "language": "python",
   "name": "python3"
  },
  "language_info": {
   "codemirror_mode": {
    "name": "ipython",
    "version": 3
   },
   "file_extension": ".py",
   "mimetype": "text/x-python",
   "name": "python",
   "nbconvert_exporter": "python",
   "pygments_lexer": "ipython3",
   "version": "3.8.8"
  }
 },
 "nbformat": 4,
 "nbformat_minor": 5
}
