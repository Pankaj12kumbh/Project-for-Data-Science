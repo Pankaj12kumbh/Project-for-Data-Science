{
 "cells": [
  {
   "cell_type": "code",
   "execution_count": 9,
   "id": "84418d18",
   "metadata": {},
   "outputs": [],
   "source": [
    "import numpy as np\n",
    "import pandas as pd"
   ]
  },
  {
   "cell_type": "code",
   "execution_count": 10,
   "id": "362f91c2",
   "metadata": {},
   "outputs": [
    {
     "data": {
      "text/plain": [
       "array([1, 2, 3, 4, 5])"
      ]
     },
     "execution_count": 10,
     "metadata": {},
     "output_type": "execute_result"
    }
   ],
   "source": [
    "list1 = [1,2,3,4,5]\n",
    "\n",
    "my_array = np.array(list1)\n",
    "my_array"
   ]
  },
  {
   "cell_type": "code",
   "execution_count": 11,
   "id": "76235b9c",
   "metadata": {},
   "outputs": [
    {
     "name": "stdout",
     "output_type": "stream",
     "text": [
      "[[1 2 3]\n",
      " [4 5 6]\n",
      " [7 8 9]]\n"
     ]
    }
   ],
   "source": [
    "list2 = [[1,2,3],[4,5,6],[7,8,9]]\n",
    "\n",
    "my_array1 = np.array(list2)\n",
    "print(my_array1)"
   ]
  },
  {
   "cell_type": "code",
   "execution_count": 15,
   "id": "348352ac",
   "metadata": {},
   "outputs": [
    {
     "data": {
      "text/plain": [
       "45"
      ]
     },
     "execution_count": 15,
     "metadata": {},
     "output_type": "execute_result"
    }
   ],
   "source": [
    "my_array1.sum()"
   ]
  },
  {
   "cell_type": "code",
   "execution_count": 14,
   "id": "3ca76baa",
   "metadata": {},
   "outputs": [
    {
     "data": {
      "text/plain": [
       "array([ 1,  4,  9, 16, 25], dtype=int32)"
      ]
     },
     "execution_count": 14,
     "metadata": {},
     "output_type": "execute_result"
    }
   ],
   "source": [
    "np.power(my_array,2)"
   ]
  },
  {
   "cell_type": "code",
   "execution_count": 16,
   "id": "ab02b2b8",
   "metadata": {},
   "outputs": [
    {
     "data": {
      "text/plain": [
       "array([1, 2, 3, 4, 5])"
      ]
     },
     "execution_count": 16,
     "metadata": {},
     "output_type": "execute_result"
    }
   ],
   "source": [
    "my_array"
   ]
  },
  {
   "cell_type": "code",
   "execution_count": 18,
   "id": "3779b7b4",
   "metadata": {},
   "outputs": [
    {
     "name": "stdout",
     "output_type": "stream",
     "text": [
      "[1, 4, 9, 16, 25]\n"
     ]
    }
   ],
   "source": [
    "a = [i**2 for i in list1]\n",
    "print(a)"
   ]
  },
  {
   "cell_type": "markdown",
   "id": "9809d6d8",
   "metadata": {},
   "source": [
    "# Indexing in Array"
   ]
  },
  {
   "cell_type": "code",
   "execution_count": 19,
   "id": "cd8b8489",
   "metadata": {},
   "outputs": [
    {
     "name": "stdout",
     "output_type": "stream",
     "text": [
      "2\n"
     ]
    }
   ],
   "source": [
    "print(list1[1])"
   ]
  },
  {
   "cell_type": "code",
   "execution_count": 20,
   "id": "4fc81bc7",
   "metadata": {},
   "outputs": [
    {
     "data": {
      "text/plain": [
       "2"
      ]
     },
     "execution_count": 20,
     "metadata": {},
     "output_type": "execute_result"
    }
   ],
   "source": [
    "my_array[1]"
   ]
  },
  {
   "cell_type": "code",
   "execution_count": 21,
   "id": "542b00f9",
   "metadata": {},
   "outputs": [
    {
     "data": {
      "text/plain": [
       "array([[1, 2, 3],\n",
       "       [4, 5, 6],\n",
       "       [7, 8, 9]])"
      ]
     },
     "execution_count": 21,
     "metadata": {},
     "output_type": "execute_result"
    }
   ],
   "source": [
    "my_array1"
   ]
  },
  {
   "cell_type": "code",
   "execution_count": 22,
   "id": "ad9559d9",
   "metadata": {},
   "outputs": [
    {
     "data": {
      "text/plain": [
       "array([4, 5, 6])"
      ]
     },
     "execution_count": 22,
     "metadata": {},
     "output_type": "execute_result"
    }
   ],
   "source": [
    "my_array1[1]"
   ]
  },
  {
   "cell_type": "code",
   "execution_count": 23,
   "id": "69811f29",
   "metadata": {},
   "outputs": [
    {
     "data": {
      "text/plain": [
       "5"
      ]
     },
     "execution_count": 23,
     "metadata": {},
     "output_type": "execute_result"
    }
   ],
   "source": [
    "my_array1[1][1]"
   ]
  },
  {
   "cell_type": "markdown",
   "id": "bd2156ab",
   "metadata": {},
   "source": [
    "# Slicing in array"
   ]
  },
  {
   "cell_type": "code",
   "execution_count": 24,
   "id": "22d6f03c",
   "metadata": {},
   "outputs": [
    {
     "data": {
      "text/plain": [
       "[2, 3, 4, 5]"
      ]
     },
     "execution_count": 24,
     "metadata": {},
     "output_type": "execute_result"
    }
   ],
   "source": [
    "list1[1:]"
   ]
  },
  {
   "cell_type": "code",
   "execution_count": 25,
   "id": "e5b52769",
   "metadata": {},
   "outputs": [
    {
     "data": {
      "text/plain": [
       "array([2, 3, 4, 5])"
      ]
     },
     "execution_count": 25,
     "metadata": {},
     "output_type": "execute_result"
    }
   ],
   "source": [
    "my_array[1:]"
   ]
  },
  {
   "cell_type": "code",
   "execution_count": 27,
   "id": "a5b370f7",
   "metadata": {},
   "outputs": [
    {
     "data": {
      "text/plain": [
       "array([5, 6])"
      ]
     },
     "execution_count": 27,
     "metadata": {},
     "output_type": "execute_result"
    }
   ],
   "source": [
    "my_array1[1, 1:]"
   ]
  },
  {
   "cell_type": "markdown",
   "id": "5ae8f1b4",
   "metadata": {},
   "source": [
    "# Arithmetic Operations"
   ]
  },
  {
   "cell_type": "code",
   "execution_count": 42,
   "id": "823035cf",
   "metadata": {},
   "outputs": [],
   "source": [
    "my_array2 = np.array([1,2,3,4,5])"
   ]
  },
  {
   "cell_type": "code",
   "execution_count": 43,
   "id": "1113cf02",
   "metadata": {},
   "outputs": [
    {
     "name": "stdout",
     "output_type": "stream",
     "text": [
      "[ 2  4  6  8 10]\n"
     ]
    }
   ],
   "source": [
    "my_array3 = my_array + my_array2\n",
    "print(my_array3)"
   ]
  },
  {
   "cell_type": "code",
   "execution_count": 37,
   "id": "d9831d51",
   "metadata": {},
   "outputs": [],
   "source": [
    "my_array3 = my_array1 * 2"
   ]
  },
  {
   "cell_type": "code",
   "execution_count": 38,
   "id": "6765a049",
   "metadata": {},
   "outputs": [
    {
     "data": {
      "text/plain": [
       "array([[ 2,  4,  6],\n",
       "       [ 8, 10, 12],\n",
       "       [14, 16, 18]])"
      ]
     },
     "execution_count": 38,
     "metadata": {},
     "output_type": "execute_result"
    }
   ],
   "source": [
    "my_array3"
   ]
  },
  {
   "cell_type": "markdown",
   "id": "eb22d24a",
   "metadata": {},
   "source": [
    "# Concatenation in array"
   ]
  },
  {
   "cell_type": "code",
   "execution_count": 39,
   "id": "b88725ef",
   "metadata": {},
   "outputs": [
    {
     "data": {
      "text/plain": [
       "array([[2, 3],\n",
       "       [4, 5]])"
      ]
     },
     "execution_count": 39,
     "metadata": {},
     "output_type": "execute_result"
    }
   ],
   "source": [
    "arr1 = np.array([[2,3],[4,5]])\n",
    "arr2 = np.array([[6,7],[8,9]])\n",
    "arr1"
   ]
  },
  {
   "cell_type": "code",
   "execution_count": 46,
   "id": "58fc693a",
   "metadata": {},
   "outputs": [
    {
     "data": {
      "text/plain": [
       "array([[2, 3],\n",
       "       [4, 5],\n",
       "       [6, 7],\n",
       "       [8, 9]])"
      ]
     },
     "execution_count": 46,
     "metadata": {},
     "output_type": "execute_result"
    }
   ],
   "source": [
    "arr3 = np.concatenate((arr1, arr2), axis =0) #Action on rows\n",
    "arr3"
   ]
  },
  {
   "cell_type": "code",
   "execution_count": 44,
   "id": "a2aa0eae",
   "metadata": {},
   "outputs": [
    {
     "data": {
      "text/plain": [
       "array([[2, 3, 6, 7],\n",
       "       [4, 5, 8, 9]])"
      ]
     },
     "execution_count": 44,
     "metadata": {},
     "output_type": "execute_result"
    }
   ],
   "source": [
    "arr3 = np.concatenate((arr1, arr2), axis = 1) #Action on Columns\n",
    "arr3"
   ]
  },
  {
   "cell_type": "code",
   "execution_count": 52,
   "id": "f65042b4",
   "metadata": {},
   "outputs": [
    {
     "name": "stdout",
     "output_type": "stream",
     "text": [
      "09\n"
     ]
    }
   ],
   "source": [
    "G=[\"2022-09-03\"]\n",
    "a = str(G[0])\n",
    "print(a[5:7])"
   ]
  },
  {
   "cell_type": "code",
   "execution_count": 50,
   "id": "f6cec989",
   "metadata": {},
   "outputs": [
    {
     "data": {
      "text/plain": [
       "'09'"
      ]
     },
     "execution_count": 50,
     "metadata": {},
     "output_type": "execute_result"
    }
   ],
   "source": [
    "g = '2022-09-03'\n",
    "g[5:7]"
   ]
  },
  {
   "cell_type": "code",
   "execution_count": null,
   "id": "3a88b62d",
   "metadata": {},
   "outputs": [],
   "source": [
    "suryanshishirish@gmail.com\n",
    "\n",
    "a = suryanshishirish\n",
    "b = gmail.com"
   ]
  }
 ],
 "metadata": {
  "kernelspec": {
   "display_name": "Python 3 (ipykernel)",
   "language": "python",
   "name": "python3"
  },
  "language_info": {
   "codemirror_mode": {
    "name": "ipython",
    "version": 3
   },
   "file_extension": ".py",
   "mimetype": "text/x-python",
   "name": "python",
   "nbconvert_exporter": "python",
   "pygments_lexer": "ipython3",
   "version": "3.9.13"
  }
 },
 "nbformat": 4,
 "nbformat_minor": 5
}
