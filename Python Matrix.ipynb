{
 "cells": [
  {
   "cell_type": "code",
   "execution_count": 1,
   "id": "ec8783e6",
   "metadata": {},
   "outputs": [],
   "source": [
    "import numpy as np\n",
    "import pandas as pd"
   ]
  },
  {
   "cell_type": "code",
   "execution_count": 81,
   "id": "a36e4e66",
   "metadata": {
    "scrolled": true
   },
   "outputs": [
    {
     "name": "stdout",
     "output_type": "stream",
     "text": [
      "0 0 0\n",
      "0 0 1\n",
      "0 0 2\n",
      "0 1 0\n",
      "0 1 1\n",
      "0 1 2\n",
      "0 2 0\n",
      "0 2 1\n",
      "0 2 2\n",
      "1 0 0\n",
      "1 0 1\n",
      "1 0 2\n",
      "1 1 0\n",
      "1 1 1\n",
      "1 1 2\n",
      "1 2 0\n",
      "1 2 1\n",
      "1 2 2\n",
      "2 0 0\n",
      "2 0 1\n",
      "2 0 2\n",
      "2 1 0\n",
      "2 1 1\n",
      "2 1 2\n",
      "2 2 0\n",
      "2 2 1\n",
      "2 2 2\n"
     ]
    }
   ],
   "source": [
    "for i in range(3):\n",
    "    for j in range (3):\n",
    "        for k in range(3):\n",
    "            print(i,j,k)"
   ]
  },
  {
   "cell_type": "markdown",
   "id": "d18254c7",
   "metadata": {},
   "source": [
    "# Matrix Multiplication"
   ]
  },
  {
   "cell_type": "code",
   "execution_count": 78,
   "id": "8ce9513b",
   "metadata": {},
   "outputs": [
    {
     "name": "stdout",
     "output_type": "stream",
     "text": [
      "The multiplication of Matrix M1 and M2 =  [[156, 208, -182], [95, 253, -48], [-27, -92, 327]]\n",
      "[[ 156  208 -182]\n",
      " [  95  253  -48]\n",
      " [ -27  -92  327]]\n"
     ]
    }
   ],
   "source": [
    "M1 = [[8, 14, -6], \n",
    "      [12,7,4], \n",
    "      [-11,3,21]]\n",
    "\n",
    "M2 = [[3, 16, -6],\n",
    "           [9,7,-4], \n",
    "           [-1,3,13]]\n",
    "\n",
    "M3  = [[0,0,0],\n",
    "       [0,0,0],\n",
    "       [0,0,0]]\n",
    "\n",
    "matrix_length = len(M1)\n",
    "\n",
    "#To Multiply M1 and M2 matrices\n",
    "#if M1.shape[1] == M2.shape[0]:\n",
    "for i in range(len(M1)):\n",
    "    for j in range (len(M2)):\n",
    "        for k in range(len(M3)):\n",
    "            M3[i][j] += M1[i][k] * M2[k][j]\n",
    "\n",
    "#To Print the matrix\n",
    "print(\"The multiplication of Matrix M1 and M2 = \", M3)\n",
    "\n",
    "m11 = np.array(M1)\n",
    "m22 = np.array(M2)\n",
    "\n",
    "m33 = m11.dot(m22)\n",
    "\n",
    "print(m33)"
   ]
  },
  {
   "cell_type": "code",
   "execution_count": 79,
   "id": "fa84bcaf",
   "metadata": {},
   "outputs": [
    {
     "data": {
      "text/plain": [
       "156"
      ]
     },
     "execution_count": 79,
     "metadata": {},
     "output_type": "execute_result"
    }
   ],
   "source": [
    "(M1[0][0]*M2[0][0]) + (M1[0][1]*M2[1][0]) +(M1[0][2]*M2[2][0])\n",
    "#m11"
   ]
  },
  {
   "cell_type": "code",
   "execution_count": 80,
   "id": "54127c59",
   "metadata": {},
   "outputs": [
    {
     "data": {
      "text/plain": [
       "156"
      ]
     },
     "execution_count": 80,
     "metadata": {},
     "output_type": "execute_result"
    }
   ],
   "source": [
    "m33[0][0]"
   ]
  },
  {
   "cell_type": "code",
   "execution_count": 47,
   "id": "50f8ad10",
   "metadata": {},
   "outputs": [
    {
     "data": {
      "text/plain": [
       "array([[ 63, 320,  83],\n",
       "       [ 77, 484, 102]])"
      ]
     },
     "execution_count": 47,
     "metadata": {},
     "output_type": "execute_result"
    }
   ],
   "source": [
    "mat1 = [[1, 6, 5],[3 ,4, 8]]\n",
    "mat2 = [[3, 4, 6],[5, 6, 7],[6,56, 7]]\n",
    " \n",
    "# This will return dot product\n",
    "res = np.dot(mat1,mat2)\n",
    "res"
   ]
  },
  {
   "cell_type": "code",
   "execution_count": 48,
   "id": "2ec6483e",
   "metadata": {},
   "outputs": [
    {
     "data": {
      "text/plain": [
       "array([[3, 2],\n",
       "       [2, 3],\n",
       "       [3, 4]])"
      ]
     },
     "execution_count": 48,
     "metadata": {},
     "output_type": "execute_result"
    }
   ],
   "source": [
    "mat1 = [[3,2],[2 ,3],[3,4]]\n",
    "mat2 = [[1,0],[0,1]]\n",
    " \n",
    "# This will return dot product\n",
    "res = np.dot(mat1,mat2)\n",
    "res"
   ]
  },
  {
   "cell_type": "code",
   "execution_count": 7,
   "id": "3775ce44",
   "metadata": {},
   "outputs": [
    {
     "data": {
      "text/plain": [
       "array([[ 6, 12, 18],\n",
       "       [ 5, 10, 15]])"
      ]
     },
     "execution_count": 7,
     "metadata": {},
     "output_type": "execute_result"
    }
   ],
   "source": [
    "mat1 = [[1, 2, 3],[1 ,2, 2]]\n",
    "mat2 = [[1, 2, 3],[1, 2, 3],[1,2,3]]\n",
    " \n",
    "# This will return dot product\n",
    "res = np.dot(mat1,mat2)\n",
    "res"
   ]
  },
  {
   "cell_type": "code",
   "execution_count": 92,
   "id": "8746d779",
   "metadata": {},
   "outputs": [
    {
     "name": "stdout",
     "output_type": "stream",
     "text": [
      "-6\n",
      "4\n",
      "21\n"
     ]
    }
   ],
   "source": [
    "M1 = [[8, 14, -6],\n",
    "           [12,7,4], \n",
    "           [-11,3,21]]\n",
    "\n",
    "matrix_length = len(M1)\n",
    "\n",
    "#To read the last element from each row.\n",
    "for i in range(matrix_length):\n",
    "    print(M1[i][2])\n",
    "    \n"
   ]
  },
  {
   "cell_type": "code",
   "execution_count": 96,
   "id": "ce247729",
   "metadata": {},
   "outputs": [
    {
     "data": {
      "text/plain": [
       "array([-6,  4, 21])"
      ]
     },
     "execution_count": 96,
     "metadata": {},
     "output_type": "execute_result"
    }
   ],
   "source": [
    "m11 = np.array(M1)\n",
    "m11[:,2]"
   ]
  },
  {
   "cell_type": "markdown",
   "id": "0979ea48",
   "metadata": {},
   "source": [
    "# Matrix Transpose"
   ]
  },
  {
   "cell_type": "code",
   "execution_count": 97,
   "id": "f5572f4c",
   "metadata": {},
   "outputs": [
    {
     "data": {
      "text/plain": [
       "array([[  3,   5,   4],\n",
       "       [  6, -10,   8],\n",
       "       [  9,  15,  12]])"
      ]
     },
     "execution_count": 97,
     "metadata": {},
     "output_type": "execute_result"
    }
   ],
   "source": [
    "M1 = np.array([[3, 6, 9], [5, -10, 15], [4,8,12]])\n",
    "M2 = M1.T\n",
    "M2"
   ]
  },
  {
   "cell_type": "code",
   "execution_count": 100,
   "id": "4e791a86",
   "metadata": {},
   "outputs": [
    {
     "data": {
      "text/plain": [
       "3"
      ]
     },
     "execution_count": 100,
     "metadata": {},
     "output_type": "execute_result"
    }
   ],
   "source": [
    "M1.shape[1]"
   ]
  },
  {
   "cell_type": "markdown",
   "id": "0ab70e55",
   "metadata": {},
   "source": [
    "# Matrix Slicing"
   ]
  },
  {
   "cell_type": "code",
   "execution_count": 12,
   "id": "e4998355",
   "metadata": {},
   "outputs": [
    {
     "name": "stdout",
     "output_type": "stream",
     "text": [
      "[[1 2 3]\n",
      " [4 5 6]\n",
      " [7 8 9]]\n"
     ]
    }
   ],
   "source": [
    "list2 = [[1,2,3],[4,5,6],[7,8,9]]\n",
    "\n",
    "my_array1 = np.array(list2)\n",
    "print(my_array1)"
   ]
  },
  {
   "cell_type": "code",
   "execution_count": 27,
   "id": "63e581c1",
   "metadata": {},
   "outputs": [
    {
     "data": {
      "text/plain": [
       "6"
      ]
     },
     "execution_count": 27,
     "metadata": {},
     "output_type": "execute_result"
    }
   ],
   "source": [
    "my_array1[1,2]"
   ]
  },
  {
   "cell_type": "code",
   "execution_count": 11,
   "id": "9cb64ea2",
   "metadata": {},
   "outputs": [
    {
     "name": "stdout",
     "output_type": "stream",
     "text": [
      "[  8 -12  16 -20]\n"
     ]
    }
   ],
   "source": [
    "#Print all rows and the third column data.\n",
    "\n",
    "M1 = np.array([[2, 4, 6, 8, 10], \n",
    "    [3, 6, 9, -12, -15],\n",
    "    [4, 8, 12, 16, -20],\n",
    "    [5, -10, 15, -20, 25]])\n",
    "\n",
    "print(M1[:,3]) "
   ]
  },
  {
   "cell_type": "markdown",
   "id": "ca15550f",
   "metadata": {},
   "source": [
    "# Eigen Values , Eigen Vectors and Determinant"
   ]
  },
  {
   "cell_type": "code",
   "execution_count": 30,
   "id": "93d35b5c",
   "metadata": {},
   "outputs": [
    {
     "name": "stdout",
     "output_type": "stream",
     "text": [
      "Printing the Original square array:\n",
      " [[ 3  2]\n",
      " [ 3 -2]]\n",
      "Printing the Eigen values of the given square array:\n",
      " [ 4. -3.]\n",
      "Printing Right eigenvectors of the given square array:\n",
      " [[ 0.89442719 -0.31622777]\n",
      " [ 0.4472136   0.9486833 ]]\n"
     ]
    }
   ],
   "source": [
    "import numpy as np\n",
    "  \n",
    "# create numpy 2d-array\n",
    "m = np.array([[3, 2],\n",
    "              [3, -2]])\n",
    "  \n",
    "print(\"Printing the Original square array:\\n\",\n",
    "      m)\n",
    "  \n",
    "# finding eigenvalues and eigenvectors\n",
    "w, v = np.linalg.eig(m)\n",
    "  \n",
    "# printing eigen values\n",
    "print(\"Printing the Eigen values of the given square array:\\n\",\n",
    "      w)\n",
    "  \n",
    "# printing eigen vectors\n",
    "print(\"Printing Right eigenvectors of the given square array:\\n\",\n",
    "      v)"
   ]
  },
  {
   "cell_type": "code",
   "execution_count": 101,
   "id": "7bb0602b",
   "metadata": {},
   "outputs": [
    {
     "name": "stdout",
     "output_type": "stream",
     "text": [
      "[[50 29]\n",
      " [30 44]]\n",
      "\n",
      "Determinant of given 2X2 matrix:\n",
      "1330\n"
     ]
    }
   ],
   "source": [
    "n_array = np.array([[50, 29], [30, 44]])\n",
    "  \n",
    "print(n_array)\n",
    "  \n",
    "# calculating the determinant of matrix\n",
    "det = np.linalg.det(n_array)\n",
    "  \n",
    "print(\"\\nDeterminant of given 2X2 matrix:\")\n",
    "print(int(det))"
   ]
  }
 ],
 "metadata": {
  "kernelspec": {
   "display_name": "Python 3 (ipykernel)",
   "language": "python",
   "name": "python3"
  },
  "language_info": {
   "codemirror_mode": {
    "name": "ipython",
    "version": 3
   },
   "file_extension": ".py",
   "mimetype": "text/x-python",
   "name": "python",
   "nbconvert_exporter": "python",
   "pygments_lexer": "ipython3",
   "version": "3.9.13"
  }
 },
 "nbformat": 4,
 "nbformat_minor": 5
}
