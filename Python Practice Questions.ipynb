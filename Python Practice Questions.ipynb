{
 "cells": [
  {
   "cell_type": "code",
   "execution_count": 1,
   "id": "5efb1ad1",
   "metadata": {},
   "outputs": [],
   "source": [
    "import numpy as np\n",
    "import pandas as pd"
   ]
  },
  {
   "cell_type": "markdown",
   "id": "e9e803dc",
   "metadata": {},
   "source": [
    "# Get the domain name and receipient name from email ID"
   ]
  },
  {
   "cell_type": "code",
   "execution_count": 50,
   "id": "9bb3b2d6",
   "metadata": {},
   "outputs": [],
   "source": [
    "s = 'prateek.rathore@gmail.com'"
   ]
  },
  {
   "cell_type": "code",
   "execution_count": 51,
   "id": "a55cacbf",
   "metadata": {},
   "outputs": [
    {
     "name": "stdout",
     "output_type": "stream",
     "text": [
      "15\n"
     ]
    }
   ],
   "source": [
    "n = s.index('@')\n",
    "print(n)"
   ]
  },
  {
   "cell_type": "code",
   "execution_count": 52,
   "id": "35a1f9e5",
   "metadata": {},
   "outputs": [
    {
     "data": {
      "text/plain": [
       "'g@mail.com'"
      ]
     },
     "execution_count": 52,
     "metadata": {},
     "output_type": "execute_result"
    }
   ],
   "source": [
    "s[n+1:]"
   ]
  },
  {
   "cell_type": "code",
   "execution_count": 53,
   "id": "cd72f82a",
   "metadata": {},
   "outputs": [
    {
     "data": {
      "text/plain": [
       "'prateek.rathore'"
      ]
     },
     "execution_count": 53,
     "metadata": {},
     "output_type": "execute_result"
    }
   ],
   "source": [
    "s[:n]"
   ]
  },
  {
   "cell_type": "code",
   "execution_count": 253,
   "id": "82a333ce",
   "metadata": {},
   "outputs": [
    {
     "name": "stdout",
     "output_type": "stream",
     "text": [
      "[7, 15]\n"
     ]
    }
   ],
   "source": [
    "#Multiple Indexing\n",
    "\n",
    "Email_ID = 'prateek@rathore@gmail.com'\n",
    "Match_Char = '@'\n",
    "    \n",
    "Pos_Match_Char = ([pos for pos, char in enumerate(Email_ID) if char == Match_Char])\n",
    "\n",
    "print((Pos_Match_Char))"
   ]
  },
  {
   "cell_type": "markdown",
   "id": "9a1589a8",
   "metadata": {},
   "source": [
    "# Words/Characters Count Problem"
   ]
  },
  {
   "cell_type": "code",
   "execution_count": 89,
   "id": "4cc374e9",
   "metadata": {},
   "outputs": [],
   "source": [
    "words = \"\"\"the quick brown fox jumps over the lazy dog.\n",
    "the cow jumps over the moon. \n",
    "the dog fox apple black brown.\n",
    "\"\"\""
   ]
  },
  {
   "cell_type": "code",
   "execution_count": 90,
   "id": "342c0f38",
   "metadata": {},
   "outputs": [],
   "source": [
    "words_count = {}"
   ]
  },
  {
   "cell_type": "code",
   "execution_count": 91,
   "id": "8c4c4ceb",
   "metadata": {},
   "outputs": [],
   "source": [
    "words = words.replace(\"\\n\",\" \")\n",
    "words = words.replace(\".\",\" \")"
   ]
  },
  {
   "cell_type": "code",
   "execution_count": 92,
   "id": "50abd8ca",
   "metadata": {},
   "outputs": [
    {
     "name": "stdout",
     "output_type": "stream",
     "text": [
      "the quick brown fox jumps over the lazy dog  the cow jumps over the moon   the dog fox apple black brown  \n"
     ]
    }
   ],
   "source": [
    "print(words)"
   ]
  },
  {
   "cell_type": "code",
   "execution_count": 93,
   "id": "5751ab06",
   "metadata": {},
   "outputs": [],
   "source": [
    "for word in words.split(\" \"):\n",
    "    #words_count[word] = len(word)\n",
    "    if len(word) > 0:\n",
    "        if word == 'fox':\n",
    "            words_count[word] = words_count.get(word,0)+1 #Python fetches key value if it exists then original value else 0\n",
    "        #print(words_count.get(word,0)+1)"
   ]
  },
  {
   "cell_type": "code",
   "execution_count": 94,
   "id": "a8bbc533",
   "metadata": {},
   "outputs": [
    {
     "name": "stdout",
     "output_type": "stream",
     "text": [
      "{'fox': 2}\n"
     ]
    }
   ],
   "source": [
    "print(words_count)"
   ]
  },
  {
   "cell_type": "code",
   "execution_count": 88,
   "id": "2ee7d348",
   "metadata": {},
   "outputs": [
    {
     "name": "stdout",
     "output_type": "stream",
     "text": [
      "Counter({'d': 5, 'e': 5, 'c': 3, 'b': 2, 'a': 1})\n"
     ]
    }
   ],
   "source": [
    "s='abbcccdddddeeeee'\n",
    "from collections import Counter\n",
    "x = Counter(s)\n",
    "print(x)"
   ]
  },
  {
   "cell_type": "code",
   "execution_count": 82,
   "id": "b62a2327",
   "metadata": {},
   "outputs": [
    {
     "name": "stdout",
     "output_type": "stream",
     "text": [
      "{'the': 5, 'quick': 1, 'brown': 2, 'fox': 2, 'jumps': 2, 'over': 2, 'lazy': 1, 'dog': 2, 'cow': 1, 'moon': 1, 'apple': 1, 'black': 1}\n"
     ]
    }
   ],
   "source": []
  },
  {
   "cell_type": "markdown",
   "id": "154a8b34",
   "metadata": {},
   "source": [
    "# Tuples are immutables ?"
   ]
  },
  {
   "cell_type": "code",
   "execution_count": 98,
   "id": "948d9864",
   "metadata": {},
   "outputs": [
    {
     "name": "stdout",
     "output_type": "stream",
     "text": [
      "<class 'tuple'>\n"
     ]
    }
   ],
   "source": [
    "a = (1,2,[4,5,6],7)\n",
    "print(type(a))"
   ]
  },
  {
   "cell_type": "code",
   "execution_count": 96,
   "id": "5318cafd",
   "metadata": {},
   "outputs": [
    {
     "data": {
      "text/plain": [
       "[1, 100, 3, 4]"
      ]
     },
     "execution_count": 96,
     "metadata": {},
     "output_type": "execute_result"
    }
   ],
   "source": [
    "b = [1,2,3,4]\n",
    "b[1]=100\n",
    "b"
   ]
  },
  {
   "cell_type": "code",
   "execution_count": 104,
   "id": "68e104b9",
   "metadata": {},
   "outputs": [],
   "source": [
    "a[2][1] = 100"
   ]
  },
  {
   "cell_type": "code",
   "execution_count": 105,
   "id": "d49f7fc2",
   "metadata": {},
   "outputs": [
    {
     "name": "stdout",
     "output_type": "stream",
     "text": [
      "(1, 2, [4, 100, 6], 7)\n"
     ]
    }
   ],
   "source": [
    "print(a)"
   ]
  },
  {
   "cell_type": "markdown",
   "id": "3f55f6e5",
   "metadata": {},
   "source": [
    "# Map, Filter and Reduce "
   ]
  },
  {
   "cell_type": "code",
   "execution_count": 42,
   "id": "b1be54b1",
   "metadata": {},
   "outputs": [
    {
     "name": "stdout",
     "output_type": "stream",
     "text": [
      "['3', '4', '5'] list string values changes to number [3, 4, 5]\n"
     ]
    }
   ],
   "source": [
    "#Map\n",
    "num = ['3','4','5']\n",
    "\n",
    "new_num = list(map(int,num))\n",
    "print(f'{num} list string values changes to number {new_num}')"
   ]
  },
  {
   "cell_type": "code",
   "execution_count": null,
   "id": "da3c0bab",
   "metadata": {},
   "outputs": [],
   "source": [
    "# Filter\n",
    "mylist = [1,5,4,6,8,11,3,12]\n",
    "xl = list(filter(lambda x: (x%2 == 0), mylist))\n",
    "print(list(filter(lambda x: (x%2 == 0), mylist)))\n",
    "print(xl)"
   ]
  },
  {
   "cell_type": "code",
   "execution_count": 45,
   "id": "8f41b93c",
   "metadata": {},
   "outputs": [
    {
     "data": {
      "text/plain": [
       "15"
      ]
     },
     "execution_count": 45,
     "metadata": {},
     "output_type": "execute_result"
    }
   ],
   "source": [
    "#Reduce\n",
    "from functools import reduce\n",
    "num1 = [1,2,3,4,5]\n",
    "\n",
    "new_num = reduce(lambda x,y:x+y, num1)\n",
    "new_num"
   ]
  },
  {
   "cell_type": "markdown",
   "id": "14680ab5",
   "metadata": {},
   "source": [
    "# Dataframe Rank"
   ]
  },
  {
   "cell_type": "code",
   "execution_count": 106,
   "id": "ebb31dc4",
   "metadata": {},
   "outputs": [
    {
     "data": {
      "text/html": [
       "<div>\n",
       "<style scoped>\n",
       "    .dataframe tbody tr th:only-of-type {\n",
       "        vertical-align: middle;\n",
       "    }\n",
       "\n",
       "    .dataframe tbody tr th {\n",
       "        vertical-align: top;\n",
       "    }\n",
       "\n",
       "    .dataframe thead th {\n",
       "        text-align: right;\n",
       "    }\n",
       "</style>\n",
       "<table border=\"1\" class=\"dataframe\">\n",
       "  <thead>\n",
       "    <tr style=\"text-align: right;\">\n",
       "      <th></th>\n",
       "      <th>Animal</th>\n",
       "      <th>Number_legs</th>\n",
       "    </tr>\n",
       "  </thead>\n",
       "  <tbody>\n",
       "    <tr>\n",
       "      <th>0</th>\n",
       "      <td>cat</td>\n",
       "      <td>4.0</td>\n",
       "    </tr>\n",
       "    <tr>\n",
       "      <th>1</th>\n",
       "      <td>penguin</td>\n",
       "      <td>2.0</td>\n",
       "    </tr>\n",
       "    <tr>\n",
       "      <th>2</th>\n",
       "      <td>dog</td>\n",
       "      <td>4.0</td>\n",
       "    </tr>\n",
       "    <tr>\n",
       "      <th>3</th>\n",
       "      <td>spider</td>\n",
       "      <td>8.0</td>\n",
       "    </tr>\n",
       "    <tr>\n",
       "      <th>4</th>\n",
       "      <td>snake</td>\n",
       "      <td>NaN</td>\n",
       "    </tr>\n",
       "  </tbody>\n",
       "</table>\n",
       "</div>"
      ],
      "text/plain": [
       "    Animal  Number_legs\n",
       "0      cat          4.0\n",
       "1  penguin          2.0\n",
       "2      dog          4.0\n",
       "3   spider          8.0\n",
       "4    snake          NaN"
      ]
     },
     "execution_count": 106,
     "metadata": {},
     "output_type": "execute_result"
    }
   ],
   "source": [
    "df1 = pd.DataFrame(data={'Animal': ['cat', 'penguin', 'dog',\n",
    "                                   'spider', 'snake'],\n",
    "                        'Number_legs': [4, 2, 4, 8, np.nan]})\n",
    "df1"
   ]
  },
  {
   "cell_type": "code",
   "execution_count": 107,
   "id": "77728e24",
   "metadata": {},
   "outputs": [
    {
     "data": {
      "text/html": [
       "<div>\n",
       "<style scoped>\n",
       "    .dataframe tbody tr th:only-of-type {\n",
       "        vertical-align: middle;\n",
       "    }\n",
       "\n",
       "    .dataframe tbody tr th {\n",
       "        vertical-align: top;\n",
       "    }\n",
       "\n",
       "    .dataframe thead th {\n",
       "        text-align: right;\n",
       "    }\n",
       "</style>\n",
       "<table border=\"1\" class=\"dataframe\">\n",
       "  <thead>\n",
       "    <tr style=\"text-align: right;\">\n",
       "      <th></th>\n",
       "      <th>Animal</th>\n",
       "      <th>Number_legs</th>\n",
       "      <th>Max_Rank</th>\n",
       "      <th>Dense_Rank</th>\n",
       "      <th>Min_Rank</th>\n",
       "    </tr>\n",
       "  </thead>\n",
       "  <tbody>\n",
       "    <tr>\n",
       "      <th>0</th>\n",
       "      <td>cat</td>\n",
       "      <td>4.0</td>\n",
       "      <td>3.0</td>\n",
       "      <td>2.0</td>\n",
       "      <td>2.0</td>\n",
       "    </tr>\n",
       "    <tr>\n",
       "      <th>1</th>\n",
       "      <td>penguin</td>\n",
       "      <td>2.0</td>\n",
       "      <td>1.0</td>\n",
       "      <td>3.0</td>\n",
       "      <td>1.0</td>\n",
       "    </tr>\n",
       "    <tr>\n",
       "      <th>2</th>\n",
       "      <td>dog</td>\n",
       "      <td>4.0</td>\n",
       "      <td>3.0</td>\n",
       "      <td>2.0</td>\n",
       "      <td>2.0</td>\n",
       "    </tr>\n",
       "    <tr>\n",
       "      <th>3</th>\n",
       "      <td>spider</td>\n",
       "      <td>8.0</td>\n",
       "      <td>4.0</td>\n",
       "      <td>1.0</td>\n",
       "      <td>4.0</td>\n",
       "    </tr>\n",
       "    <tr>\n",
       "      <th>4</th>\n",
       "      <td>snake</td>\n",
       "      <td>NaN</td>\n",
       "      <td>NaN</td>\n",
       "      <td>NaN</td>\n",
       "      <td>NaN</td>\n",
       "    </tr>\n",
       "  </tbody>\n",
       "</table>\n",
       "</div>"
      ],
      "text/plain": [
       "    Animal  Number_legs  Max_Rank  Dense_Rank  Min_Rank\n",
       "0      cat          4.0       3.0         2.0       2.0\n",
       "1  penguin          2.0       1.0         3.0       1.0\n",
       "2      dog          4.0       3.0         2.0       2.0\n",
       "3   spider          8.0       4.0         1.0       4.0\n",
       "4    snake          NaN       NaN         NaN       NaN"
      ]
     },
     "execution_count": 107,
     "metadata": {},
     "output_type": "execute_result"
    }
   ],
   "source": [
    "df1['Max_Rank'] = df1['Number_legs'].rank(method = 'max')\n",
    "df1['Dense_Rank'] = df1['Number_legs'].rank(method = 'dense', ascending = False)\n",
    "df1['Min_Rank'] = df1['Number_legs'].rank(method = 'min')\n",
    "df1"
   ]
  },
  {
   "cell_type": "code",
   "execution_count": 160,
   "id": "e1a40937",
   "metadata": {},
   "outputs": [
    {
     "data": {
      "text/html": [
       "<div>\n",
       "<style scoped>\n",
       "    .dataframe tbody tr th:only-of-type {\n",
       "        vertical-align: middle;\n",
       "    }\n",
       "\n",
       "    .dataframe tbody tr th {\n",
       "        vertical-align: top;\n",
       "    }\n",
       "\n",
       "    .dataframe thead th {\n",
       "        text-align: right;\n",
       "    }\n",
       "</style>\n",
       "<table border=\"1\" class=\"dataframe\">\n",
       "  <thead>\n",
       "    <tr style=\"text-align: right;\">\n",
       "      <th></th>\n",
       "      <th>Emp_Name</th>\n",
       "      <th>Salary</th>\n",
       "      <th>Dept</th>\n",
       "    </tr>\n",
       "  </thead>\n",
       "  <tbody>\n",
       "    <tr>\n",
       "      <th>0</th>\n",
       "      <td>Farhan</td>\n",
       "      <td>10000</td>\n",
       "      <td>IT</td>\n",
       "    </tr>\n",
       "    <tr>\n",
       "      <th>1</th>\n",
       "      <td>Arti</td>\n",
       "      <td>20000</td>\n",
       "      <td>IT</td>\n",
       "    </tr>\n",
       "    <tr>\n",
       "      <th>2</th>\n",
       "      <td>Shrish</td>\n",
       "      <td>15000</td>\n",
       "      <td>IT</td>\n",
       "    </tr>\n",
       "    <tr>\n",
       "      <th>3</th>\n",
       "      <td>Sreekar</td>\n",
       "      <td>23000</td>\n",
       "      <td>Sales</td>\n",
       "    </tr>\n",
       "    <tr>\n",
       "      <th>4</th>\n",
       "      <td>Adil</td>\n",
       "      <td>45000</td>\n",
       "      <td>Sales</td>\n",
       "    </tr>\n",
       "    <tr>\n",
       "      <th>5</th>\n",
       "      <td>Shruti</td>\n",
       "      <td>30000</td>\n",
       "      <td>Sales</td>\n",
       "    </tr>\n",
       "  </tbody>\n",
       "</table>\n",
       "</div>"
      ],
      "text/plain": [
       "  Emp_Name  Salary   Dept\n",
       "0   Farhan   10000     IT\n",
       "1     Arti   20000     IT\n",
       "2   Shrish   15000     IT\n",
       "3  Sreekar   23000  Sales\n",
       "4     Adil   45000  Sales\n",
       "5   Shruti   30000  Sales"
      ]
     },
     "execution_count": 160,
     "metadata": {},
     "output_type": "execute_result"
    }
   ],
   "source": [
    "employee = pd.DataFrame(data={'Emp_Name': ['Farhan', 'Arti', 'Shrish',\n",
    "                                   'Sreekar', 'Adil','Shruti'],\n",
    "                        'Salary': [10000,20000,15000,23000,45000,30000],\n",
    "                             'Dept':['IT','IT','IT','Sales','Sales','Sales']})\n",
    "employee\n"
   ]
  },
  {
   "cell_type": "code",
   "execution_count": 161,
   "id": "ddd5dbe7",
   "metadata": {},
   "outputs": [
    {
     "data": {
      "text/plain": [
       "Dept\n",
       "IT       20000\n",
       "Sales    45000\n",
       "Name: Salary, dtype: int64"
      ]
     },
     "execution_count": 161,
     "metadata": {},
     "output_type": "execute_result"
    }
   ],
   "source": [
    "employee.groupby('Dept').Salary.max()"
   ]
  },
  {
   "cell_type": "code",
   "execution_count": 162,
   "id": "2c01cb8b",
   "metadata": {},
   "outputs": [
    {
     "data": {
      "text/html": [
       "<div>\n",
       "<style scoped>\n",
       "    .dataframe tbody tr th:only-of-type {\n",
       "        vertical-align: middle;\n",
       "    }\n",
       "\n",
       "    .dataframe tbody tr th {\n",
       "        vertical-align: top;\n",
       "    }\n",
       "\n",
       "    .dataframe thead th {\n",
       "        text-align: right;\n",
       "    }\n",
       "</style>\n",
       "<table border=\"1\" class=\"dataframe\">\n",
       "  <thead>\n",
       "    <tr style=\"text-align: right;\">\n",
       "      <th></th>\n",
       "      <th>Emp_Name</th>\n",
       "      <th>Salary</th>\n",
       "      <th>Dept</th>\n",
       "      <th>rank</th>\n",
       "    </tr>\n",
       "  </thead>\n",
       "  <tbody>\n",
       "    <tr>\n",
       "      <th>0</th>\n",
       "      <td>Farhan</td>\n",
       "      <td>10000</td>\n",
       "      <td>IT</td>\n",
       "      <td>3.0</td>\n",
       "    </tr>\n",
       "    <tr>\n",
       "      <th>3</th>\n",
       "      <td>Sreekar</td>\n",
       "      <td>23000</td>\n",
       "      <td>Sales</td>\n",
       "      <td>3.0</td>\n",
       "    </tr>\n",
       "  </tbody>\n",
       "</table>\n",
       "</div>"
      ],
      "text/plain": [
       "  Emp_Name  Salary   Dept  rank\n",
       "0   Farhan   10000     IT   3.0\n",
       "3  Sreekar   23000  Sales   3.0"
      ]
     },
     "execution_count": 162,
     "metadata": {},
     "output_type": "execute_result"
    }
   ],
   "source": [
    "employee['rank'] = employee.groupby('Dept').Salary.rank(method = 'dense', ascending = False)\n",
    "#employee\n",
    "employee[(employee['rank']==3)]"
   ]
  },
  {
   "cell_type": "code",
   "execution_count": 163,
   "id": "15c29d04",
   "metadata": {},
   "outputs": [
    {
     "data": {
      "text/plain": [
       "Dept\n",
       "IT       15000.000000\n",
       "Sales    32666.666667\n",
       "Name: Salary, dtype: float64"
      ]
     },
     "execution_count": 163,
     "metadata": {},
     "output_type": "execute_result"
    }
   ],
   "source": [
    " employee.groupby('Dept').Salary.mean()"
   ]
  },
  {
   "cell_type": "code",
   "execution_count": 165,
   "id": "a8c4ef42",
   "metadata": {},
   "outputs": [
    {
     "data": {
      "text/html": [
       "<div>\n",
       "<style scoped>\n",
       "    .dataframe tbody tr th:only-of-type {\n",
       "        vertical-align: middle;\n",
       "    }\n",
       "\n",
       "    .dataframe tbody tr th {\n",
       "        vertical-align: top;\n",
       "    }\n",
       "\n",
       "    .dataframe thead th {\n",
       "        text-align: right;\n",
       "    }\n",
       "</style>\n",
       "<table border=\"1\" class=\"dataframe\">\n",
       "  <thead>\n",
       "    <tr style=\"text-align: right;\">\n",
       "      <th></th>\n",
       "      <th>Emp_Name</th>\n",
       "      <th>Salary</th>\n",
       "      <th>Dept</th>\n",
       "      <th>rank</th>\n",
       "    </tr>\n",
       "  </thead>\n",
       "  <tbody>\n",
       "    <tr>\n",
       "      <th>0</th>\n",
       "      <td>Farhan</td>\n",
       "      <td>10000</td>\n",
       "      <td>IT</td>\n",
       "      <td>3.0</td>\n",
       "    </tr>\n",
       "    <tr>\n",
       "      <th>3</th>\n",
       "      <td>Sreekar</td>\n",
       "      <td>23000</td>\n",
       "      <td>Sales</td>\n",
       "      <td>3.0</td>\n",
       "    </tr>\n",
       "  </tbody>\n",
       "</table>\n",
       "</div>"
      ],
      "text/plain": [
       "  Emp_Name  Salary   Dept  rank\n",
       "0   Farhan   10000     IT   3.0\n",
       "3  Sreekar   23000  Sales   3.0"
      ]
     },
     "execution_count": 165,
     "metadata": {},
     "output_type": "execute_result"
    }
   ],
   "source": [
    "# Filter dataframe rows on column values as list\n",
    "\n",
    "emp_list = ['Farhan','Sreekar']\n",
    "employee[employee['Emp_Name'].isin(emp_list)]"
   ]
  },
  {
   "cell_type": "markdown",
   "id": "9646b2aa",
   "metadata": {},
   "source": [
    "# Decorators"
   ]
  },
  {
   "cell_type": "code",
   "execution_count": 131,
   "id": "82d56738",
   "metadata": {},
   "outputs": [
    {
     "name": "stdout",
     "output_type": "stream",
     "text": [
      "Prateek\n"
     ]
    }
   ],
   "source": [
    "def fun(func1):\n",
    "    func1('Prateek')\n",
    "func1 = print\n",
    "fun(func1)\n",
    "    "
   ]
  },
  {
   "cell_type": "code",
   "execution_count": 142,
   "id": "cafdca2d",
   "metadata": {},
   "outputs": [
    {
     "name": "stdout",
     "output_type": "stream",
     "text": [
      "Executing Now\n",
      "Harry is a good boy\n",
      "Executed\n",
      "<function dec1.<locals>.nowexec at 0x000002216B9EE790>\n"
     ]
    }
   ],
   "source": [
    "def dec1(func1):\n",
    "    def nowexec():\n",
    "        print('Executing Now')\n",
    "        func1()\n",
    "        print('Executed')\n",
    "    return(nowexec)\n",
    "\n",
    "def who_is_harry():\n",
    "    print(\"Harry is a good boy\")\n",
    "    \n",
    "who_is_harry = dec1(who_is_harry)\n",
    "who_is_harry()\n",
    "print(who_is_harry)"
   ]
  },
  {
   "cell_type": "markdown",
   "id": "22ebcf81",
   "metadata": {},
   "source": [
    "# Try and Except"
   ]
  },
  {
   "cell_type": "code",
   "execution_count": 191,
   "id": "08603c37",
   "metadata": {},
   "outputs": [
    {
     "name": "stdout",
     "output_type": "stream",
     "text": [
      "Enter value of x: r\n",
      "Enter value of y: 3\n",
      "3 is not acceptable as integer\n",
      "The below code will continue to work\n"
     ]
    }
   ],
   "source": [
    "x = input('Enter value of x: ')\n",
    "y = input('Enter value of y: ')\n",
    "#print('sum is', int(x)+int(y))\n",
    "try:\n",
    "    print('sum is', int(x)+int(y))\n",
    "except:\n",
    "    print(f'{y} is not acceptable as integer')\n",
    "    \n",
    "print('The below code will continue to work')"
   ]
  },
  {
   "cell_type": "code",
   "execution_count": 193,
   "id": "a78c1f56",
   "metadata": {},
   "outputs": [
    {
     "name": "stdout",
     "output_type": "stream",
     "text": [
      "Enter value of x: 3\n",
      "Enter value of y: 2w\n",
      "invalid literal for int() with base 10: '2w' is not acceptable as integer\n",
      "The below code will continue to work\n"
     ]
    }
   ],
   "source": [
    "x = input('Enter value of x: ')\n",
    "y = input('Enter value of y: ')\n",
    "\n",
    "try:\n",
    "    print('sum is', int(x)+int(y))\n",
    "except Exception as e:\n",
    "    print(f'{e} is not acceptable as integer')\n",
    "    \n",
    "print('The below code will continue to work') "
   ]
  },
  {
   "cell_type": "markdown",
   "id": "1f11f809",
   "metadata": {},
   "source": [
    "# Modularization"
   ]
  },
  {
   "cell_type": "code",
   "execution_count": 210,
   "id": "f208c02a",
   "metadata": {},
   "outputs": [
    {
     "name": "stdout",
     "output_type": "stream",
     "text": [
      "Enter value of x: 2\n",
      "Enter value of y: 3\n",
      "35\n"
     ]
    }
   ],
   "source": [
    "a = input('Enter value of x: ')\n",
    "b = input('Enter value of y: ')\n",
    "\n",
    "def sum_cube(a,b):\n",
    "    return(int(a)**3 + int(b)**3)\n",
    "\n",
    "sum_cube = sum_cube(a,b)\n",
    "print(sum_cube)"
   ]
  },
  {
   "cell_type": "code",
   "execution_count": 232,
   "id": "8f85d2a1",
   "metadata": {},
   "outputs": [],
   "source": [
    "import prateek_func"
   ]
  },
  {
   "cell_type": "code",
   "execution_count": 233,
   "id": "50257146",
   "metadata": {},
   "outputs": [
    {
     "name": "stdout",
     "output_type": "stream",
     "text": [
      "35\n",
      "25\n"
     ]
    }
   ],
   "source": [
    "cube_sum = prateek_func.cube_sum(int(a),int(b))\n",
    "print(cube_sum)\n",
    "\n",
    "ab_wholesqr = prateek_func.ab_wholesqr(int(a),int(b))\n",
    "print(ab_wholesqr)"
   ]
  },
  {
   "cell_type": "markdown",
   "id": "17645b9a",
   "metadata": {},
   "source": [
    "# File Handling"
   ]
  },
  {
   "cell_type": "code",
   "execution_count": 247,
   "id": "6be9d459",
   "metadata": {},
   "outputs": [],
   "source": [
    "#Write dataframe to excel and csv\n",
    "writer = pd.ExcelWriter('C:/Users/NAVNEET03/Edukeeda/emp_test_data.xlsx', engine='xlsxwriter')\n",
    "new_employee.to_excel(writer, sheet_name='Main_Data')\n",
    "employee.to_excel(writer, sheet_name='Org_Emp')\n",
    "writer.save()\n",
    "\n",
    "\n",
    "#csv\n",
    "new_employee.to_csv('employee_data.csv')"
   ]
  },
  {
   "cell_type": "code",
   "execution_count": 248,
   "id": "3bfeaec2",
   "metadata": {},
   "outputs": [],
   "source": [
    "writer.close()"
   ]
  },
  {
   "cell_type": "markdown",
   "id": "557ea130",
   "metadata": {},
   "source": [
    "# Group by Function"
   ]
  },
  {
   "cell_type": "code",
   "execution_count": 239,
   "id": "36ee382a",
   "metadata": {},
   "outputs": [
    {
     "data": {
      "text/html": [
       "<div>\n",
       "<style scoped>\n",
       "    .dataframe tbody tr th:only-of-type {\n",
       "        vertical-align: middle;\n",
       "    }\n",
       "\n",
       "    .dataframe tbody tr th {\n",
       "        vertical-align: top;\n",
       "    }\n",
       "\n",
       "    .dataframe thead th {\n",
       "        text-align: right;\n",
       "    }\n",
       "</style>\n",
       "<table border=\"1\" class=\"dataframe\">\n",
       "  <thead>\n",
       "    <tr style=\"text-align: right;\">\n",
       "      <th></th>\n",
       "      <th>Emp_Name</th>\n",
       "      <th>Salary</th>\n",
       "      <th>Dept</th>\n",
       "      <th>Age</th>\n",
       "    </tr>\n",
       "  </thead>\n",
       "  <tbody>\n",
       "    <tr>\n",
       "      <th>0</th>\n",
       "      <td>Farhan</td>\n",
       "      <td>10000</td>\n",
       "      <td>IT</td>\n",
       "      <td>23</td>\n",
       "    </tr>\n",
       "    <tr>\n",
       "      <th>1</th>\n",
       "      <td>Arti</td>\n",
       "      <td>20000</td>\n",
       "      <td>IT</td>\n",
       "      <td>25</td>\n",
       "    </tr>\n",
       "    <tr>\n",
       "      <th>2</th>\n",
       "      <td>Shrish</td>\n",
       "      <td>15000</td>\n",
       "      <td>IT</td>\n",
       "      <td>26</td>\n",
       "    </tr>\n",
       "    <tr>\n",
       "      <th>3</th>\n",
       "      <td>Sreekar</td>\n",
       "      <td>23000</td>\n",
       "      <td>Sales</td>\n",
       "      <td>27</td>\n",
       "    </tr>\n",
       "    <tr>\n",
       "      <th>4</th>\n",
       "      <td>Adil</td>\n",
       "      <td>45000</td>\n",
       "      <td>Sales</td>\n",
       "      <td>28</td>\n",
       "    </tr>\n",
       "    <tr>\n",
       "      <th>5</th>\n",
       "      <td>Shruti</td>\n",
       "      <td>30000</td>\n",
       "      <td>Sales</td>\n",
       "      <td>29</td>\n",
       "    </tr>\n",
       "  </tbody>\n",
       "</table>\n",
       "</div>"
      ],
      "text/plain": [
       "  Emp_Name  Salary   Dept Age\n",
       "0   Farhan   10000     IT  23\n",
       "1     Arti   20000     IT  25\n",
       "2   Shrish   15000     IT  26\n",
       "3  Sreekar   23000  Sales  27\n",
       "4     Adil   45000  Sales  28\n",
       "5   Shruti   30000  Sales  29"
      ]
     },
     "execution_count": 239,
     "metadata": {},
     "output_type": "execute_result"
    }
   ],
   "source": [
    "new_employee = pd.DataFrame(data={'Emp_Name': ['Farhan', 'Arti', 'Shrish',\n",
    "                                   'Sreekar', 'Adil','Shruti'],\n",
    "                        'Salary': [10000,20000,15000,23000,45000,30000],\n",
    "                             'Dept':['IT','IT','IT','Sales','Sales','Sales'],\n",
    "                                 'Age':['23','25','26','27','28','29']})\n",
    "new_employee"
   ]
  },
  {
   "cell_type": "code",
   "execution_count": 235,
   "id": "a9d1889e",
   "metadata": {},
   "outputs": [
    {
     "data": {
      "text/html": [
       "<div>\n",
       "<style scoped>\n",
       "    .dataframe tbody tr th:only-of-type {\n",
       "        vertical-align: middle;\n",
       "    }\n",
       "\n",
       "    .dataframe tbody tr th {\n",
       "        vertical-align: top;\n",
       "    }\n",
       "\n",
       "    .dataframe thead th {\n",
       "        text-align: right;\n",
       "    }\n",
       "</style>\n",
       "<table border=\"1\" class=\"dataframe\">\n",
       "  <thead>\n",
       "    <tr style=\"text-align: right;\">\n",
       "      <th></th>\n",
       "      <th>count</th>\n",
       "      <th>max</th>\n",
       "      <th>min</th>\n",
       "    </tr>\n",
       "    <tr>\n",
       "      <th>Dept</th>\n",
       "      <th></th>\n",
       "      <th></th>\n",
       "      <th></th>\n",
       "    </tr>\n",
       "  </thead>\n",
       "  <tbody>\n",
       "    <tr>\n",
       "      <th>IT</th>\n",
       "      <td>3</td>\n",
       "      <td>20000</td>\n",
       "      <td>10000</td>\n",
       "    </tr>\n",
       "    <tr>\n",
       "      <th>Sales</th>\n",
       "      <td>3</td>\n",
       "      <td>45000</td>\n",
       "      <td>23000</td>\n",
       "    </tr>\n",
       "  </tbody>\n",
       "</table>\n",
       "</div>"
      ],
      "text/plain": [
       "       count    max    min\n",
       "Dept                      \n",
       "IT         3  20000  10000\n",
       "Sales      3  45000  23000"
      ]
     },
     "execution_count": 235,
     "metadata": {},
     "output_type": "execute_result"
    }
   ],
   "source": [
    "new_employee.groupby('Dept').Salary.agg(['count','max','min'])"
   ]
  },
  {
   "cell_type": "code",
   "execution_count": 237,
   "id": "035dfaac",
   "metadata": {},
   "outputs": [
    {
     "data": {
      "text/html": [
       "<div>\n",
       "<style scoped>\n",
       "    .dataframe tbody tr th:only-of-type {\n",
       "        vertical-align: middle;\n",
       "    }\n",
       "\n",
       "    .dataframe tbody tr th {\n",
       "        vertical-align: top;\n",
       "    }\n",
       "\n",
       "    .dataframe thead th {\n",
       "        text-align: right;\n",
       "    }\n",
       "</style>\n",
       "<table border=\"1\" class=\"dataframe\">\n",
       "  <thead>\n",
       "    <tr style=\"text-align: right;\">\n",
       "      <th></th>\n",
       "      <th>Emp_Name</th>\n",
       "      <th>Salary</th>\n",
       "      <th>Dept</th>\n",
       "      <th>Age</th>\n",
       "    </tr>\n",
       "  </thead>\n",
       "  <tbody>\n",
       "    <tr>\n",
       "      <th>0</th>\n",
       "      <td>Farhan</td>\n",
       "      <td>10000</td>\n",
       "      <td>IT</td>\n",
       "      <td>23</td>\n",
       "    </tr>\n",
       "    <tr>\n",
       "      <th>3</th>\n",
       "      <td>Sreekar</td>\n",
       "      <td>23000</td>\n",
       "      <td>Sales</td>\n",
       "      <td>27</td>\n",
       "    </tr>\n",
       "    <tr>\n",
       "      <th>4</th>\n",
       "      <td>Adil</td>\n",
       "      <td>45000</td>\n",
       "      <td>Sales</td>\n",
       "      <td>28</td>\n",
       "    </tr>\n",
       "  </tbody>\n",
       "</table>\n",
       "</div>"
      ],
      "text/plain": [
       "  Emp_Name  Salary   Dept Age\n",
       "0   Farhan   10000     IT  23\n",
       "3  Sreekar   23000  Sales  27\n",
       "4     Adil   45000  Sales  28"
      ]
     },
     "execution_count": 237,
     "metadata": {},
     "output_type": "execute_result"
    }
   ],
   "source": [
    "# Filter dataframe rows on column values as list\n",
    "\n",
    "emp_list = ['Farhan','Sreekar','Adil']\n",
    "\n",
    "#new_employee[(new_employee['Emp_Name'] == emp_list[0])|(new_employee['Emp_Name'] == emp_list[1])]\n",
    "\n",
    "new_employee[new_employee['Emp_Name'].isin(emp_list)]"
   ]
  },
  {
   "cell_type": "markdown",
   "id": "597d8359",
   "metadata": {},
   "source": [
    "# Apply Function"
   ]
  },
  {
   "cell_type": "code",
   "execution_count": 174,
   "id": "2294fa28",
   "metadata": {},
   "outputs": [
    {
     "data": {
      "text/plain": [
       "0    23\n",
       "1    25\n",
       "2    26\n",
       "3    27\n",
       "4    28\n",
       "5    29\n",
       "Name: Age, dtype: int32"
      ]
     },
     "execution_count": 174,
     "metadata": {},
     "output_type": "execute_result"
    }
   ],
   "source": [
    "new_employee.Age.astype(int)"
   ]
  },
  {
   "cell_type": "code",
   "execution_count": 213,
   "id": "06aac0a3",
   "metadata": {},
   "outputs": [],
   "source": [
    "def age_category(x):\n",
    "    if int(x) < 25 :\n",
    "        return ('Young')\n",
    "    else:\n",
    "        return('Adult')\n",
    "        "
   ]
  },
  {
   "cell_type": "code",
   "execution_count": 240,
   "id": "a1bc9e2e",
   "metadata": {},
   "outputs": [
    {
     "data": {
      "text/html": [
       "<div>\n",
       "<style scoped>\n",
       "    .dataframe tbody tr th:only-of-type {\n",
       "        vertical-align: middle;\n",
       "    }\n",
       "\n",
       "    .dataframe tbody tr th {\n",
       "        vertical-align: top;\n",
       "    }\n",
       "\n",
       "    .dataframe thead th {\n",
       "        text-align: right;\n",
       "    }\n",
       "</style>\n",
       "<table border=\"1\" class=\"dataframe\">\n",
       "  <thead>\n",
       "    <tr style=\"text-align: right;\">\n",
       "      <th></th>\n",
       "      <th>Emp_Name</th>\n",
       "      <th>Salary</th>\n",
       "      <th>Dept</th>\n",
       "      <th>Age</th>\n",
       "      <th>Age_Category</th>\n",
       "    </tr>\n",
       "  </thead>\n",
       "  <tbody>\n",
       "    <tr>\n",
       "      <th>0</th>\n",
       "      <td>Farhan</td>\n",
       "      <td>10000</td>\n",
       "      <td>IT</td>\n",
       "      <td>23</td>\n",
       "      <td>Young</td>\n",
       "    </tr>\n",
       "    <tr>\n",
       "      <th>1</th>\n",
       "      <td>Arti</td>\n",
       "      <td>20000</td>\n",
       "      <td>IT</td>\n",
       "      <td>25</td>\n",
       "      <td>Adult</td>\n",
       "    </tr>\n",
       "    <tr>\n",
       "      <th>2</th>\n",
       "      <td>Shrish</td>\n",
       "      <td>15000</td>\n",
       "      <td>IT</td>\n",
       "      <td>26</td>\n",
       "      <td>Adult</td>\n",
       "    </tr>\n",
       "    <tr>\n",
       "      <th>3</th>\n",
       "      <td>Sreekar</td>\n",
       "      <td>23000</td>\n",
       "      <td>Sales</td>\n",
       "      <td>27</td>\n",
       "      <td>Adult</td>\n",
       "    </tr>\n",
       "    <tr>\n",
       "      <th>4</th>\n",
       "      <td>Adil</td>\n",
       "      <td>45000</td>\n",
       "      <td>Sales</td>\n",
       "      <td>28</td>\n",
       "      <td>Adult</td>\n",
       "    </tr>\n",
       "    <tr>\n",
       "      <th>5</th>\n",
       "      <td>Shruti</td>\n",
       "      <td>30000</td>\n",
       "      <td>Sales</td>\n",
       "      <td>29</td>\n",
       "      <td>Adult</td>\n",
       "    </tr>\n",
       "  </tbody>\n",
       "</table>\n",
       "</div>"
      ],
      "text/plain": [
       "  Emp_Name  Salary   Dept Age Age_Category\n",
       "0   Farhan   10000     IT  23        Young\n",
       "1     Arti   20000     IT  25        Adult\n",
       "2   Shrish   15000     IT  26        Adult\n",
       "3  Sreekar   23000  Sales  27        Adult\n",
       "4     Adil   45000  Sales  28        Adult\n",
       "5   Shruti   30000  Sales  29        Adult"
      ]
     },
     "execution_count": 240,
     "metadata": {},
     "output_type": "execute_result"
    }
   ],
   "source": [
    "new_employee['Age_Category'] = new_employee['Age'].apply(age_category)\n",
    "new_employee"
   ]
  },
  {
   "cell_type": "code",
   "execution_count": 241,
   "id": "a8d7472a",
   "metadata": {},
   "outputs": [
    {
     "data": {
      "text/html": [
       "<div>\n",
       "<style scoped>\n",
       "    .dataframe tbody tr th:only-of-type {\n",
       "        vertical-align: middle;\n",
       "    }\n",
       "\n",
       "    .dataframe tbody tr th {\n",
       "        vertical-align: top;\n",
       "    }\n",
       "\n",
       "    .dataframe thead th {\n",
       "        text-align: right;\n",
       "    }\n",
       "</style>\n",
       "<table border=\"1\" class=\"dataframe\">\n",
       "  <thead>\n",
       "    <tr style=\"text-align: right;\">\n",
       "      <th></th>\n",
       "      <th>Emp_Name</th>\n",
       "      <th>Salary</th>\n",
       "      <th>Dept</th>\n",
       "      <th>Age</th>\n",
       "      <th>Age_Category</th>\n",
       "      <th>Age_Mul</th>\n",
       "    </tr>\n",
       "  </thead>\n",
       "  <tbody>\n",
       "    <tr>\n",
       "      <th>0</th>\n",
       "      <td>Farhan</td>\n",
       "      <td>10000</td>\n",
       "      <td>IT</td>\n",
       "      <td>23</td>\n",
       "      <td>Young</td>\n",
       "      <td>46</td>\n",
       "    </tr>\n",
       "    <tr>\n",
       "      <th>1</th>\n",
       "      <td>Arti</td>\n",
       "      <td>20000</td>\n",
       "      <td>IT</td>\n",
       "      <td>25</td>\n",
       "      <td>Adult</td>\n",
       "      <td>50</td>\n",
       "    </tr>\n",
       "    <tr>\n",
       "      <th>2</th>\n",
       "      <td>Shrish</td>\n",
       "      <td>15000</td>\n",
       "      <td>IT</td>\n",
       "      <td>26</td>\n",
       "      <td>Adult</td>\n",
       "      <td>52</td>\n",
       "    </tr>\n",
       "    <tr>\n",
       "      <th>3</th>\n",
       "      <td>Sreekar</td>\n",
       "      <td>23000</td>\n",
       "      <td>Sales</td>\n",
       "      <td>27</td>\n",
       "      <td>Adult</td>\n",
       "      <td>54</td>\n",
       "    </tr>\n",
       "    <tr>\n",
       "      <th>4</th>\n",
       "      <td>Adil</td>\n",
       "      <td>45000</td>\n",
       "      <td>Sales</td>\n",
       "      <td>28</td>\n",
       "      <td>Adult</td>\n",
       "      <td>56</td>\n",
       "    </tr>\n",
       "    <tr>\n",
       "      <th>5</th>\n",
       "      <td>Shruti</td>\n",
       "      <td>30000</td>\n",
       "      <td>Sales</td>\n",
       "      <td>29</td>\n",
       "      <td>Adult</td>\n",
       "      <td>58</td>\n",
       "    </tr>\n",
       "  </tbody>\n",
       "</table>\n",
       "</div>"
      ],
      "text/plain": [
       "  Emp_Name  Salary   Dept Age Age_Category  Age_Mul\n",
       "0   Farhan   10000     IT  23        Young       46\n",
       "1     Arti   20000     IT  25        Adult       50\n",
       "2   Shrish   15000     IT  26        Adult       52\n",
       "3  Sreekar   23000  Sales  27        Adult       54\n",
       "4     Adil   45000  Sales  28        Adult       56\n",
       "5   Shruti   30000  Sales  29        Adult       58"
      ]
     },
     "execution_count": 241,
     "metadata": {},
     "output_type": "execute_result"
    }
   ],
   "source": [
    "new_employee['Age_Mul'] = new_employee['Age'].apply(lambda x:int(x)*2)\n",
    "new_employee"
   ]
  },
  {
   "cell_type": "code",
   "execution_count": 249,
   "id": "35f4f603",
   "metadata": {},
   "outputs": [
    {
     "name": "stdout",
     "output_type": "stream",
     "text": [
      "Enter your name :Prateek\n",
      "Enter your name :Nishant\n",
      "Enter your name :Ashu\n",
      "Enter your name :Shruti\n",
      "Enter your name :Swati\n",
      "['Prateek', 'Nishant', 'Ashu', 'Shruti', 'Swati']\n"
     ]
    }
   ],
   "source": [
    "x=[]\n",
    "for i in range(0,5):\n",
    "    a = input(\"Enter your name :\")\n",
    "    x.append(a)\n",
    "print(x)"
   ]
  },
  {
   "cell_type": "code",
   "execution_count": 257,
   "id": "355c4dcf",
   "metadata": {},
   "outputs": [
    {
     "name": "stdout",
     "output_type": "stream",
     "text": [
      "1729\n"
     ]
    }
   ],
   "source": [
    "#a^3 + b^3 = c^3 + d^3\n",
    "9**3 + 10**3 == 12**3 + 1**3\n",
    "print(9**3 + 10**3)"
   ]
  }
 ],
 "metadata": {
  "kernelspec": {
   "display_name": "Python 3 (ipykernel)",
   "language": "python",
   "name": "python3"
  },
  "language_info": {
   "codemirror_mode": {
    "name": "ipython",
    "version": 3
   },
   "file_extension": ".py",
   "mimetype": "text/x-python",
   "name": "python",
   "nbconvert_exporter": "python",
   "pygments_lexer": "ipython3",
   "version": "3.9.13"
  }
 },
 "nbformat": 4,
 "nbformat_minor": 5
}
