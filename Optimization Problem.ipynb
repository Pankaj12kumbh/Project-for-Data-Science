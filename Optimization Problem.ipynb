{
 "cells": [
  {
   "cell_type": "code",
   "execution_count": 1,
   "id": "47a514b3",
   "metadata": {},
   "outputs": [],
   "source": [
    "from scipy.optimize import linprog"
   ]
  },
  {
   "cell_type": "code",
   "execution_count": 2,
   "id": "3e23b592",
   "metadata": {},
   "outputs": [],
   "source": [
    "from pulp import LpMaximize, LpProblem, LpStatus, lpSum, LpVariable"
   ]
  },
  {
   "cell_type": "markdown",
   "id": "c5b569cd",
   "metadata": {},
   "source": [
    "Maximize z = x + 2y\n",
    "\n",
    "Constraints \n",
    "2x + y <= 20\n",
    "\n",
    "-4x + 5y <=10\n",
    "\n",
    "-x + 2y >= -2\n",
    "\n",
    "-x + 5y = 15\n",
    "\n",
    "x>= 0\n",
    "y>= 0"
   ]
  },
  {
   "cell_type": "code",
   "execution_count": 3,
   "id": "9c8e2ff3",
   "metadata": {},
   "outputs": [],
   "source": [
    "model = LpProblem(name=\"small-problem\", sense=LpMaximize)"
   ]
  },
  {
   "cell_type": "code",
   "execution_count": 4,
   "id": "78bdbf78",
   "metadata": {},
   "outputs": [],
   "source": [
    "# Initialize the decision variables\n",
    "x = LpVariable(name=\"x\", lowBound=0)\n",
    "y = LpVariable(name=\"y\", lowBound=0)"
   ]
  },
  {
   "cell_type": "code",
   "execution_count": 5,
   "id": "e32370da",
   "metadata": {},
   "outputs": [
    {
     "data": {
      "text/plain": [
       "pulp.pulp.LpAffineExpression"
      ]
     },
     "execution_count": 5,
     "metadata": {},
     "output_type": "execute_result"
    }
   ],
   "source": [
    "expression = 2 * x + 4 * y\n",
    "type(expression)"
   ]
  },
  {
   "cell_type": "code",
   "execution_count": 6,
   "id": "6696fa0c",
   "metadata": {},
   "outputs": [
    {
     "data": {
      "text/plain": [
       "pulp.pulp.LpConstraint"
      ]
     },
     "execution_count": 6,
     "metadata": {},
     "output_type": "execute_result"
    }
   ],
   "source": [
    "constraint = 2 * x + 4 * y >= 8\n",
    "type(constraint)"
   ]
  },
  {
   "cell_type": "code",
   "execution_count": 7,
   "id": "84029f1f",
   "metadata": {},
   "outputs": [],
   "source": [
    "# Add the constraints to the model\n",
    "model += (2 * x + y <= 20, \"red_constraint\")\n",
    "model += (4 * x - 5 * y >= -10, \"blue_constraint\")\n",
    "model += (-x + 2 * y >= -2, \"yellow_constraint\")\n",
    "model += (-x + 5 * y == 15, \"green_constraint\")"
   ]
  },
  {
   "cell_type": "code",
   "execution_count": 8,
   "id": "fa62190e",
   "metadata": {},
   "outputs": [],
   "source": [
    "# Add the objective function to the model\n",
    "obj_func = x + 2 * y\n",
    "model += obj_func"
   ]
  },
  {
   "cell_type": "code",
   "execution_count": 9,
   "id": "0d622a7c",
   "metadata": {},
   "outputs": [
    {
     "name": "stderr",
     "output_type": "stream",
     "text": [
      "C:\\Users\\NAVNEET03\\anaconda3\\lib\\site-packages\\pulp\\pulp.py:1704: UserWarning: Overwriting previously set objective.\n",
      "  warnings.warn(\"Overwriting previously set objective.\")\n"
     ]
    }
   ],
   "source": [
    "model += x + 2 * y"
   ]
  },
  {
   "cell_type": "code",
   "execution_count": 10,
   "id": "d3c2495e",
   "metadata": {},
   "outputs": [],
   "source": [
    "# Add the objective function to the model\n",
    "model += lpSum([x, 2 * y])"
   ]
  },
  {
   "cell_type": "code",
   "execution_count": 11,
   "id": "4c442b41",
   "metadata": {},
   "outputs": [],
   "source": [
    "status = model.solve()"
   ]
  },
  {
   "cell_type": "code",
   "execution_count": 12,
   "id": "71b4bf8e",
   "metadata": {},
   "outputs": [
    {
     "name": "stdout",
     "output_type": "stream",
     "text": [
      "objective: 16.8181817\n"
     ]
    }
   ],
   "source": [
    "print(f\"objective: {model.objective.value()}\")"
   ]
  },
  {
   "cell_type": "code",
   "execution_count": 13,
   "id": "05ffff90",
   "metadata": {},
   "outputs": [
    {
     "name": "stdout",
     "output_type": "stream",
     "text": [
      "x: 7.7272727\n",
      "y: 4.5454545\n"
     ]
    }
   ],
   "source": [
    "for var in model.variables():\n",
    "    print(f\"{var.name}: {var.value()}\")"
   ]
  },
  {
   "cell_type": "code",
   "execution_count": null,
   "id": "83d465c6",
   "metadata": {},
   "outputs": [],
   "source": []
  }
 ],
 "metadata": {
  "kernelspec": {
   "display_name": "Python 3 (ipykernel)",
   "language": "python",
   "name": "python3"
  },
  "language_info": {
   "codemirror_mode": {
    "name": "ipython",
    "version": 3
   },
   "file_extension": ".py",
   "mimetype": "text/x-python",
   "name": "python",
   "nbconvert_exporter": "python",
   "pygments_lexer": "ipython3",
   "version": "3.9.13"
  }
 },
 "nbformat": 4,
 "nbformat_minor": 5
}
